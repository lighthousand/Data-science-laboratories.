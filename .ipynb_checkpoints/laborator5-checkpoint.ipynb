{
 "cells": [
  {
   "cell_type": "markdown",
   "metadata": {},
   "source": [
    "# 1."
   ]
  },
  {
   "cell_type": "code",
   "execution_count": 8,
   "metadata": {},
   "outputs": [],
   "source": [
    "import pandas as pd\n",
    "import numpy as np\n",
    "from sklearn.datasets import *\n",
    "from sklearn import linear_model\n",
    "from sklearn.model_selection import train_test_split\n",
    "from sklearn.neighbors import KNeighborsClassifier\n",
    "from sklearn.model_selection import GridSearchCV\n",
    "from sklearn import svm\n",
    "from sklearn import metrics\n",
    "\n",
    "iris = load_iris()\n",
    "digits = load_digits()\n",
    "wine = load_wine()"
   ]
  },
  {
   "cell_type": "code",
   "execution_count": 9,
   "metadata": {},
   "outputs": [
    {
     "name": "stdout",
     "output_type": "stream",
     "text": [
      "n_rows: 150\n",
      "[2 1 1 0 1 0 1 0 1 0 1 0 1 0 2 0 1 2 0 2 0 0 0 0 2 0 0 2 0 1 2 2 1 1 2 2 0\n",
      " 0 2 2 2 0 1 0 2 0 2 1 1 1]\n",
      "[1 2 1 0 1 0 1 0 2 0 2 0 1 0 2 0 1 2 0 2 0 0 0 0 2 0 0 2 0 1 2 2 2 1 1 2 0\n",
      " 0 1 2 2 0 1 0 2 0 1 1 1 1]\n",
      "8\n"
     ]
    }
   ],
   "source": [
    "X = iris.data[:, :2] \n",
    "Y = iris.target\n",
    "\n",
    "n_rows = X.shape[0]\n",
    "print('n_rows:', n_rows)\n",
    "X_train = X[0:n_rows * 2 // 3, :]\n",
    "X_test = X[n_rows * 2 // 3:, :]\n",
    "y_train = Y[0:n_rows * 2 // 3]\n",
    "y_train = Y[0:n_rows * 2 // 3]\n",
    "\n",
    "X_train, X_test, y_train, y_test = train_test_split(X, Y, test_size=1/3, shuffle=True)\n",
    "\n",
    "logreg_model = linear_model.LogisticRegression(C=1e5)\n",
    "\n",
    "logreg_model.fit(X, Y)\n",
    "\n",
    "#to_predict = np.array([6.3, 5]).reshape(1, -1)\n",
    "#logreg_model.predict(to_predict)\n",
    "\n",
    "y_hat = logreg_model.predict(X_test)\n",
    "print(y_hat)\n",
    "print(y_test)\n",
    "\n",
    "print(sum(y_hat != y_test))"
   ]
  },
  {
   "cell_type": "markdown",
   "metadata": {},
   "source": [
    "# 2."
   ]
  },
  {
   "cell_type": "code",
   "execution_count": 10,
   "metadata": {},
   "outputs": [],
   "source": [
    "# KNeighborsClassifier\n",
    "\n",
    "# KNN falls in the supervised learning family of algorithms. \n",
    "# Informally, this means that we are given a labelled dataset consiting of training observations (x,y) \n",
    "# and would like to capture the relationship between x and y. More formally, our goal is to learn a \n",
    "# function h:X→Y so that given an unseen observation x, h(x) can confidently predict the corresponding output y.\n",
    "\n",
    "# LogisticRegresion \n",
    "\n",
    "# Logistic regression is a statistical method for analyzing a dataset in which there are one or more independent \n",
    "# variables that determine an outcome. The outcome is measured with a dichotomous variable (in which there \n",
    "# are only two possible outcomes).\n",
    "# In logistic regression, the dependent variable is binary or dichotomous, i.e. it only contains data coded as 1 \n",
    "# (TRUE, success, pregnant, etc.) or 0 (FALSE, failure, non-pregnant, etc.).\n",
    "# The goal of logistic regression is to find the best fitting (yet biologically reasonable) model to describe \n",
    "# the relationship between the dichotomous characteristic of interest (dependent variable = response or outcome variable) \n",
    "# and a set of independent (predictor or explanatory) variables. Logistic regression generates the coefficients \n",
    "# (and its standard errors and significance levels) of a formula to predict a logit transformation of the probability \n",
    "# of presence of the characteristic of interest:\n",
    "\n",
    "# DecisionTree\n",
    "\n",
    "# Decision Trees (DTs) are a non-parametric supervised learning method used for classification and regression. \n",
    "# The goal is to create a model that predicts the value of a target variable by learning simple decision rules \n",
    "# inferred from the data features.\n",
    "\n",
    "# NaiveBayes\n",
    "\n",
    "# Naive Bayes is a simple technique for constructing classifiers: models that assign class labels to problem instances, \n",
    "# represented as vectors of feature values, where the class labels are drawn from some finite set. It is not a single \n",
    "# algorithm for training such classifiers, but a family of algorithms based on a common principle: all naive Bayes classifiers \n",
    "# assume that the value of a particular feature is independent of the value of any other feature, given the class variable. \n",
    "# For example, a fruit may be considered to be an apple if it is red, round, and about 10 cm in diameter. \n",
    "# A naive Bayes classifier considers each of these features to contribute independently to the probability that this fruit \n",
    "# is an apple, regardless of any possible correlations between the color, roundness, and diameter features."
   ]
  },
  {
   "cell_type": "code",
   "execution_count": 13,
   "metadata": {},
   "outputs": [
    {
     "ename": "NameError",
     "evalue": "name 'predicted' is not defined",
     "output_type": "error",
     "traceback": [
      "\u001b[1;31m---------------------------------------------------------------------------\u001b[0m",
      "\u001b[1;31mNameError\u001b[0m                                 Traceback (most recent call last)",
      "\u001b[1;32m<ipython-input-13-8aa15ed0d527>\u001b[0m in \u001b[0;36m<module>\u001b[1;34m()\u001b[0m\n\u001b[0;32m      5\u001b[0m \u001b[1;31m#predicted = clf.predict(X_test)\u001b[0m\u001b[1;33m\u001b[0m\u001b[1;33m\u001b[0m\u001b[0m\n\u001b[0;32m      6\u001b[0m \u001b[1;31m#sorted(clf.cv_results_.keys())\u001b[0m\u001b[1;33m\u001b[0m\u001b[1;33m\u001b[0m\u001b[0m\n\u001b[1;32m----> 7\u001b[1;33m \u001b[0mprint\u001b[0m\u001b[1;33m(\u001b[0m\u001b[1;34m'Acuratete:'\u001b[0m\u001b[1;33m,\u001b[0m \u001b[0mmetrics\u001b[0m\u001b[1;33m.\u001b[0m\u001b[0maccuracy_score\u001b[0m\u001b[1;33m(\u001b[0m\u001b[0my_test\u001b[0m\u001b[1;33m,\u001b[0m \u001b[0mpredicted\u001b[0m\u001b[1;33m)\u001b[0m\u001b[1;33m)\u001b[0m\u001b[1;33m\u001b[0m\u001b[0m\n\u001b[0m",
      "\u001b[1;31mNameError\u001b[0m: name 'predicted' is not defined"
     ]
    }
   ],
   "source": [
    "parameters = {'kernel':('linear', 'rbf'), 'C':[1, 10]}\n",
    "svc = svm.SVC()\n",
    "clf = GridSearchCV(svc, parameters)\n",
    "clf.fit(iris.data, iris.target)\n",
    "predicted = clf.predict(X_test)\n",
    "#sorted(clf.cv_results_.keys())\n",
    "print('Acuratete:', metrics.accuracy_score(y_test, predicted))"
   ]
  },
  {
   "cell_type": "code",
   "execution_count": 5,
   "metadata": {},
   "outputs": [
    {
     "data": {
      "text/plain": [
       "['mean_fit_time',\n",
       " 'mean_score_time',\n",
       " 'mean_test_score',\n",
       " 'mean_train_score',\n",
       " 'param_C',\n",
       " 'param_kernel',\n",
       " 'params',\n",
       " 'rank_test_score',\n",
       " 'split0_test_score',\n",
       " 'split0_train_score',\n",
       " 'split1_test_score',\n",
       " 'split1_train_score',\n",
       " 'split2_test_score',\n",
       " 'split2_train_score',\n",
       " 'std_fit_time',\n",
       " 'std_score_time',\n",
       " 'std_test_score',\n",
       " 'std_train_score']"
      ]
     },
     "execution_count": 5,
     "metadata": {},
     "output_type": "execute_result"
    }
   ],
   "source": [
    "parameters = {'kernel':('linear', 'rbf'), 'C':[1, 10]}\n",
    "svc = svm.SVC()\n",
    "clf = GridSearchCV(svc, parameters)\n",
    "clf.fit(digits.data, digits.target)\n",
    "sorted(clf.cv_results_.keys())"
   ]
  },
  {
   "cell_type": "code",
   "execution_count": 6,
   "metadata": {},
   "outputs": [
    {
     "data": {
      "text/plain": [
       "['mean_fit_time',\n",
       " 'mean_score_time',\n",
       " 'mean_test_score',\n",
       " 'mean_train_score',\n",
       " 'param_C',\n",
       " 'param_kernel',\n",
       " 'params',\n",
       " 'rank_test_score',\n",
       " 'split0_test_score',\n",
       " 'split0_train_score',\n",
       " 'split1_test_score',\n",
       " 'split1_train_score',\n",
       " 'split2_test_score',\n",
       " 'split2_train_score',\n",
       " 'std_fit_time',\n",
       " 'std_score_time',\n",
       " 'std_test_score',\n",
       " 'std_train_score']"
      ]
     },
     "execution_count": 6,
     "metadata": {},
     "output_type": "execute_result"
    }
   ],
   "source": [
    "parameters = {'kernel':('linear', 'rbf'), 'C':[1, 10]}\n",
    "svc = svm.SVC()\n",
    "clf = GridSearchCV(svc, parameters)\n",
    "clf.fit(wine.data, wine.target)\n",
    "sorted(clf.cv_results_.keys())"
   ]
  },
  {
   "cell_type": "code",
   "execution_count": null,
   "metadata": {},
   "outputs": [],
   "source": []
  }
 ],
 "metadata": {
  "kernelspec": {
   "display_name": "Python 3",
   "language": "python",
   "name": "python3"
  },
  "language_info": {
   "codemirror_mode": {
    "name": "ipython",
    "version": 3
   },
   "file_extension": ".py",
   "mimetype": "text/x-python",
   "name": "python",
   "nbconvert_exporter": "python",
   "pygments_lexer": "ipython3",
   "version": "3.6.4"
  }
 },
 "nbformat": 4,
 "nbformat_minor": 2
}
