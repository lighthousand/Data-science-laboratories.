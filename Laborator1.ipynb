{
 "cells": [
  {
   "cell_type": "markdown",
   "metadata": {},
   "source": [
    "# Ciclari, siruri de caractere"
   ]
  },
  {
   "cell_type": "markdown",
   "metadata": {},
   "source": [
    "1. fizz-buzz"
   ]
  },
  {
   "cell_type": "code",
   "execution_count": 12,
   "metadata": {},
   "outputs": [
    {
     "name": "stdout",
     "output_type": "stream",
     "text": [
      "Get me a number : 2\n",
      "1\n",
      "2\n"
     ]
    }
   ],
   "source": [
    "n = input('Get me a number : ')\n",
    "for i in range(0, int(n)):\n",
    "    if (i+1)%3 == 0:\n",
    "        print('Fizz')\n",
    "    elif (i+1)%5 == 0:\n",
    "        print('Buzz')\n",
    "    else :\n",
    "        print(i+1)"
   ]
  },
  {
   "cell_type": "markdown",
   "metadata": {},
   "source": [
    "2. Conjectura lui Coalltz"
   ]
  },
  {
   "cell_type": "code",
   "execution_count": 20,
   "metadata": {},
   "outputs": [
    {
     "name": "stdout",
     "output_type": "stream",
     "text": [
      "Get me a number: 19\n",
      "[19, 58, 9.0, 52, 8.0, 46, 7.0, 40, 6.0, 34, 5.0, 28, 4.0, 22, 3.0, 16, 2.0, 10, 1.0, 4]\n"
     ]
    }
   ],
   "source": [
    "n = input('Get me a number: ')\n",
    "seq = list()\n",
    "seq.append(int(n))\n",
    "for i in range(int(n), 0, -1):        \n",
    "    if i%2 == 0:\n",
    "        seq.append(i/2)\n",
    "    elif i%2 == 1:\n",
    "        seq.append(i * 3 + 1)\n",
    "    \n",
    "print(seq)"
   ]
  },
  {
   "cell_type": "markdown",
   "metadata": {},
   "source": [
    "3. "
   ]
  }
 ],
 "metadata": {
  "kernelspec": {
   "display_name": "Python 3",
   "language": "python",
   "name": "python3"
  },
  "language_info": {
   "codemirror_mode": {
    "name": "ipython",
    "version": 3
   },
   "file_extension": ".py",
   "mimetype": "text/x-python",
   "name": "python",
   "nbconvert_exporter": "python",
   "pygments_lexer": "ipython3",
   "version": "3.6.4"
  }
 },
 "nbformat": 4,
 "nbformat_minor": 2
}
