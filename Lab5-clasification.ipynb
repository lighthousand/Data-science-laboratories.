{
 "cells": [
  {
   "cell_type": "code",
   "execution_count": 9,
   "metadata": {},
   "outputs": [],
   "source": [
    "from sklearn.datasets import load_iris, load_wine, load_digits\n",
    "\n",
    "from sklearn.neighbors import KNeighborsClassifier, RadiusNeighborsClassifier\n",
    "from sklearn.linear_model import RidgeClassifier, LogisticRegression\n",
    "\n",
    "from sklearn.model_selection import cross_val_score\n",
    "from sklearn.model_selection import GridSearchCV\n",
    "import numpy as np"
   ]
  },
  {
   "cell_type": "code",
   "execution_count": 10,
   "metadata": {},
   "outputs": [],
   "source": [
    "#load iris data set and variables for it\n",
    "iris = load_iris()\n",
    "\n",
    "iris_x = iris.data\n",
    "iris_y = iris.target\n",
    "\n",
    "k_iris_model = KNeighborsClassifier()\n",
    "iris_model_rn = RadiusNeighborsClassifier()\n",
    "iris_model_ridge = RidgeClassifier()\n",
    "iris_model_lr = LogisticRegression()\n",
    "###\n",
    "\n",
    "#load wine data set and variables for it\n",
    "wine = load_wine()\n",
    "\n",
    "wine_x = wine.data\n",
    "wine_y = wine.target\n",
    "\n",
    "wine_model_kn = KNeighborsClassifier()\n",
    "wine_model_rn = RadiusNeighborsClassifier()\n",
    "wine_model_ridge = RidgeClassifier()\n",
    "wine_model_lr = LogisticRegression()\n",
    "###\n",
    "\n",
    "#Load digits data set and variables for it\n",
    "digits = load_digits()\n",
    "\n",
    "digits_x = wine.data\n",
    "digits_y = wine.target\n",
    "\n",
    "digits_model_kn = KNeighborsClassifier()\n",
    "digits_model_rn = RadiusNeighborsClassifier()\n",
    "digits_model_ridge = RidgeClassifier()\n",
    "digits_model_lr = LogisticRegression()\n",
    "###"
   ]
  },
  {
   "cell_type": "code",
   "execution_count": 11,
   "metadata": {},
   "outputs": [
    {
     "name": "stdout",
     "output_type": "stream",
     "text": [
      "GridSearchCV(cv=10, error_score='raise',\n",
      "       estimator=LogisticRegression(C=1.0, class_weight=None, dual=False, fit_intercept=True,\n",
      "          intercept_scaling=1, max_iter=100, multi_class='ovr', n_jobs=1,\n",
      "          penalty='l2', random_state=None, solver='liblinear', tol=0.0001,\n",
      "          verbose=0, warm_start=False),\n",
      "       fit_params=None, iid=True, n_jobs=1,\n",
      "       param_grid={'penalty': ['l1', 'l2']}, pre_dispatch='2*n_jobs',\n",
      "       refit=True, return_train_score='warn', scoring=None, verbose=0)\n"
     ]
    }
   ],
   "source": [
    "#Iris set GridSearchCV\n",
    "\n",
    "#Grid search for KNeighbors and RadiusNeighbors\n",
    "k = np.arange(150)+1\n",
    "neighbors_parameters = {'n_neighbors': k}\n",
    "\n",
    "iris_kn_grid_search = GridSearchCV(k_iris_model, neighbors_parameters, cv=10)\n",
    "iris_rn_grid_search = GridSearchCV(iris_model_rn, neighbors_parameters, cv=10)\n",
    "###\n",
    "\n",
    "#Grid search for RidgeClassifier\n",
    "penalty = ['l1', 'l2']\n",
    "ridge_parameters = {'penalty': penalty}\n",
    "\n",
    "iris_ridge_grid_search = GridSearchCV(iris_model_ridge, ridge_parameters, cv=10)\n",
    "\n",
    "\n",
    "#Grid search for LogisticRegression\n",
    "lr_parameters = {'penalty' : penalty}\n",
    "\n",
    "iris_lr_grid_search = GridSearchCV(iris_model_lr, lr_parameters, cv=10)\n",
    "print(iris_lr_grid_search)"
   ]
  },
  {
   "cell_type": "code",
   "execution_count": 12,
   "metadata": {},
   "outputs": [],
   "source": [
    "#Wine set GridSearchCV\n",
    "\n",
    "#Grid search for KNeighbors and RadiusNeighbors\n",
    "k = np.arange(150)+1\n",
    "neighbors_parameters = {'n_neighbors': k}\n",
    "\n",
    "wine_kn_grid_search = GridSearchCV(wine_model_kn, neighbors_parameters, cv=10)\n",
    "wine_rn_grid_search = GridSearchCV(wine_model_rn, neighbors_parameters, cv=10)\n",
    "###\n",
    "\n",
    "#Grid search for RidgeClassifier\n",
    "penalty = ['l1', 'l2']\n",
    "ridge_parameters = {'penalty': penalty}\n",
    "\n",
    "wine_ridge_grid_search = GridSearchCV(wine_model_ridge, ridge_parameters, cv=10)\n",
    "###\n",
    "\n",
    "#Grid search for LogisticRegression\n",
    "lr_parameters = {'penalty' : penalty}\n",
    "\n",
    "wine_lr_grid_search = GridSearchCV(wine_model_lr, lr_parameters, cv=10)\n",
    "###\n",
    "\n",
    "###"
   ]
  },
  {
   "cell_type": "code",
   "execution_count": 13,
   "metadata": {},
   "outputs": [],
   "source": [
    "#Digits set GridSearchCV\n",
    "\n",
    "#Grid search for KNeighbors and RadiusNeighbors\n",
    "k = np.arange(150)+1\n",
    "neighbors_parameters = {'n_neighbors': k}\n",
    "\n",
    "digits_kn_grid_search = GridSearchCV(digits_model_kn, neighbors_parameters, cv=10)\n",
    "digits_rn_grid_search = GridSearchCV(digits_model_rn, neighbors_parameters, cv=10)\n",
    "###\n",
    "\n",
    "#Grid search for RidgeClassifier\n",
    "penalty = ['l1', 'l2']\n",
    "ridge_parameters = {'penalty': penalty}\n",
    "\n",
    "digits_ridge_grid_search = GridSearchCV(digits_model_ridge, ridge_parameters, cv=10)\n",
    "###\n",
    "\n",
    "#Grid search for LogisticRegression\n",
    "lr_parameters = {'penalty' : penalty}\n",
    "\n",
    "digits_lr_grid_search = GridSearchCV(digits_model_lr, lr_parameters, cv=10)\n",
    "###\n",
    "\n",
    "###"
   ]
  },
  {
   "cell_type": "code",
   "execution_count": 14,
   "metadata": {},
   "outputs": [
    {
     "name": "stdout",
     "output_type": "stream",
     "text": [
      "Iris KNeighbors Classifier: 0.9666666666666668\n",
      "Iris RadiusNeighbors Classifier: 0.96\n",
      "Iris Ridge Classifier: 0.8333333333333334\n",
      "Iris Logistic Regression Classifier: 0.9533333333333334\n"
     ]
    }
   ],
   "source": [
    "#Train and score for Iris set models\n",
    "iris_kn_grid_search = GridSearchCV(k_iris_model, neighbors_parameters, cv=10)\n",
    "iris_model_kn_score = cross_val_score(iris_kn_grid_search.estimator, iris_x, iris_y, cv=10, scoring ='accuracy')\n",
    "iris_model_rn_score = cross_val_score(iris_rn_grid_search.estimator, iris_x, iris_y, cv=10, scoring ='accuracy')\n",
    "iris_model_ridge_score = cross_val_score(iris_ridge_grid_search.estimator, iris_x, iris_y, cv=10, scoring='accuracy')\n",
    "iris_model_lr_score = cross_val_score(iris_lr_grid_search.estimator, iris_x, iris_y, cv=10, scoring='accuracy')\n",
    "\n",
    "print(\"Iris KNeighbors Classifier: {}\".format(iris_model_kn_score.mean()))\n",
    "print(\"Iris RadiusNeighbors Classifier: {}\".format(iris_model_rn_score.mean()))\n",
    "print(\"Iris Ridge Classifier: {}\".format(iris_model_ridge_score.mean()))\n",
    "print(\"Iris Logistic Regression Classifier: {}\".format(iris_model_lr_score.mean()))"
   ]
  },
  {
   "cell_type": "code",
   "execution_count": 25,
   "metadata": {
    "scrolled": true
   },
   "outputs": [
    {
     "name": "stdout",
     "output_type": "stream",
     "text": [
      "Wine KNeighbors Classifier: 0.6757739938080495\n",
      "Wine Ridge Classifier: 0.983625730994152\n",
      "Wine Logistic Regression Classifier: 0.9564327485380117\n"
     ]
    }
   ],
   "source": [
    "#Train and score for Wine set models\n",
    "wine_model_kn_score = cross_val_score(wine_kn_grid_search.estimator, wine_x, wine_y, cv=10, scoring ='accuracy')\n",
    "#Throws exception because of outliers\n",
    "#\n",
    "#wine_model_rn_score = cross_val_score(wine_rn_grid_search.estimator, wine_x, wine_y, cv=10, scoring ='accuracy')\n",
    "#\n",
    "wine_model_ridge_score = cross_val_score(wine_ridge_grid_search.estimator, wine_x, wine_y, cv=10, scoring='accuracy')\n",
    "wine_model_lr_score = cross_val_score(wine_lr_grid_search.estimator, wine_x, wine_y, cv=10, scoring='accuracy')\n",
    "\n",
    "print(\"Wine KNeighbors Classifier: {}\".format(wine_model_kn_score.mean()))\n",
    "#print(\"Wine RadiusNeighbors Classifier: {}\".format(wine_model_rn_score.mean()))\n",
    "print(\"Wine Ridge Classifier: {}\".format(wine_model_ridge_score.mean()))\n",
    "print(\"Wine Logistic Regression Classifier: {}\".format(wine_model_lr_score.mean()))"
   ]
  },
  {
   "cell_type": "code",
   "execution_count": 22,
   "metadata": {},
   "outputs": [
    {
     "name": "stdout",
     "output_type": "stream",
     "text": [
      "Digits KNeighbors Classifier: 0.6757739938080495\n",
      "Digits Ridge Classifier: 0.983625730994152\n",
      "Digits Logistic Regression Classifier: 0.9564327485380117\n"
     ]
    }
   ],
   "source": [
    "#Train and score for Digits set models\n",
    "digits_model_kn_score = cross_val_score(digits_kn_grid_search.estimator, digits_x, digits_y, cv=10, scoring ='accuracy')\n",
    "#Throw exception because of outliers\n",
    "#\n",
    "#digits_model_rn_score = cross_val_score(digits_rn_grid_search.estimator, digits_x, digits_y, cv=10, scoring ='accuracy')\n",
    "#\n",
    "digits_model_ridge_score = cross_val_score(digits_ridge_grid_search.estimator, digits_x, digits_y, cv=10, scoring='accuracy')\n",
    "digits_model_lr_score = cross_val_score(digits_lr_grid_search.estimator, digits_x, digits_y, cv=10, scoring='accuracy')\n",
    "\n",
    "print(\"Digits KNeighbors Classifier: {}\".format(digits_model_kn_score.mean()))\n",
    "#print(\"Digits RadiusNeighbors Classifier: {}\".format(wine_model_rn_score.mean()))\n",
    "print(\"Digits Ridge Classifier: {}\".format(digits_model_ridge_score.mean()))\n",
    "print(\"Digits Logistic Regression Classifier: {}\".format(digits_model_lr_score.mean()))"
   ]
  },
  {
   "cell_type": "code",
   "execution_count": null,
   "metadata": {
    "collapsed": true
   },
   "outputs": [],
   "source": []
  }
 ],
 "metadata": {
  "kernelspec": {
   "display_name": "Python 3",
   "language": "python",
   "name": "python3"
  },
  "language_info": {
   "codemirror_mode": {
    "name": "ipython",
    "version": 3
   },
   "file_extension": ".py",
   "mimetype": "text/x-python",
   "name": "python",
   "nbconvert_exporter": "python",
   "pygments_lexer": "ipython3",
   "version": "3.6.4"
  }
 },
 "nbformat": 4,
 "nbformat_minor": 2
}
