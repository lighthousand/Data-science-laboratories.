{
 "cells": [
  {
   "cell_type": "markdown",
   "metadata": {},
   "source": [
    "# 1."
   ]
  },
  {
   "cell_type": "code",
   "execution_count": 15,
   "metadata": {},
   "outputs": [],
   "source": [
    "import pandas as pd\n",
    "pd.__version__\n",
    "\n",
    "import numpy as np\n",
    "\n",
    "url = 'https://raw.githubusercontent.com/justmarkham/DAT8/master/data/chipotle.tsv'\n",
    "names = ['order_id', 'quantity', 'item_name', 'choice_description', 'item_price']\n",
    "dataframe = pd.read_csv(url, delimiter='\\t')"
   ]
  },
  {
   "cell_type": "markdown",
   "metadata": {},
   "source": [
    "## A."
   ]
  },
  {
   "cell_type": "code",
   "execution_count": 17,
   "metadata": {},
   "outputs": [
    {
     "data": {
      "text/html": [
       "<div>\n",
       "<style scoped>\n",
       "    .dataframe tbody tr th:only-of-type {\n",
       "        vertical-align: middle;\n",
       "    }\n",
       "\n",
       "    .dataframe tbody tr th {\n",
       "        vertical-align: top;\n",
       "    }\n",
       "\n",
       "    .dataframe thead th {\n",
       "        text-align: right;\n",
       "    }\n",
       "</style>\n",
       "<table border=\"1\" class=\"dataframe\">\n",
       "  <thead>\n",
       "    <tr style=\"text-align: right;\">\n",
       "      <th></th>\n",
       "      <th>order_id</th>\n",
       "      <th>quantity</th>\n",
       "      <th>item_name</th>\n",
       "      <th>choice_description</th>\n",
       "      <th>item_price</th>\n",
       "    </tr>\n",
       "  </thead>\n",
       "  <tbody>\n",
       "    <tr>\n",
       "      <th>0</th>\n",
       "      <td>1</td>\n",
       "      <td>1</td>\n",
       "      <td>Chips and Fresh Tomato Salsa</td>\n",
       "      <td>NaN</td>\n",
       "      <td>$2.39</td>\n",
       "    </tr>\n",
       "    <tr>\n",
       "      <th>1</th>\n",
       "      <td>1</td>\n",
       "      <td>1</td>\n",
       "      <td>Izze</td>\n",
       "      <td>[Clementine]</td>\n",
       "      <td>$3.39</td>\n",
       "    </tr>\n",
       "    <tr>\n",
       "      <th>2</th>\n",
       "      <td>1</td>\n",
       "      <td>1</td>\n",
       "      <td>Nantucket Nectar</td>\n",
       "      <td>[Apple]</td>\n",
       "      <td>$3.39</td>\n",
       "    </tr>\n",
       "    <tr>\n",
       "      <th>3</th>\n",
       "      <td>1</td>\n",
       "      <td>1</td>\n",
       "      <td>Chips and Tomatillo-Green Chili Salsa</td>\n",
       "      <td>NaN</td>\n",
       "      <td>$2.39</td>\n",
       "    </tr>\n",
       "    <tr>\n",
       "      <th>4</th>\n",
       "      <td>2</td>\n",
       "      <td>2</td>\n",
       "      <td>Chicken Bowl</td>\n",
       "      <td>[Tomatillo-Red Chili Salsa (Hot), [Black Beans...</td>\n",
       "      <td>$16.98</td>\n",
       "    </tr>\n",
       "  </tbody>\n",
       "</table>\n",
       "</div>"
      ],
      "text/plain": [
       "   order_id  quantity                              item_name  \\\n",
       "0         1         1           Chips and Fresh Tomato Salsa   \n",
       "1         1         1                                   Izze   \n",
       "2         1         1                       Nantucket Nectar   \n",
       "3         1         1  Chips and Tomatillo-Green Chili Salsa   \n",
       "4         2         2                           Chicken Bowl   \n",
       "\n",
       "                                  choice_description item_price  \n",
       "0                                                NaN     $2.39   \n",
       "1                                       [Clementine]     $3.39   \n",
       "2                                            [Apple]     $3.39   \n",
       "3                                                NaN     $2.39   \n",
       "4  [Tomatillo-Red Chili Salsa (Hot), [Black Beans...    $16.98   "
      ]
     },
     "execution_count": 17,
     "metadata": {},
     "output_type": "execute_result"
    }
   ],
   "source": [
    "dataframe.head()"
   ]
  },
  {
   "cell_type": "markdown",
   "metadata": {},
   "source": [
    "### B. "
   ]
  },
  {
   "cell_type": "code",
   "execution_count": 19,
   "metadata": {},
   "outputs": [
    {
     "name": "stdout",
     "output_type": "stream",
     "text": [
      "<class 'pandas.core.frame.DataFrame'>\n",
      "RangeIndex: 4622 entries, 0 to 4621\n",
      "Data columns (total 5 columns):\n",
      "order_id              4622 non-null int64\n",
      "quantity              4622 non-null int64\n",
      "item_name             4622 non-null object\n",
      "choice_description    3376 non-null object\n",
      "item_price            4622 non-null object\n",
      "dtypes: int64(2), object(3)\n",
      "memory usage: 180.6+ KB\n"
     ]
    }
   ],
   "source": [
    "dataframe.info()"
   ]
  },
  {
   "cell_type": "markdown",
   "metadata": {},
   "source": [
    "### C. "
   ]
  },
  {
   "cell_type": "code",
   "execution_count": 32,
   "metadata": {},
   "outputs": [
    {
     "data": {
      "text/html": [
       "<div>\n",
       "<style scoped>\n",
       "    .dataframe tbody tr th:only-of-type {\n",
       "        vertical-align: middle;\n",
       "    }\n",
       "\n",
       "    .dataframe tbody tr th {\n",
       "        vertical-align: top;\n",
       "    }\n",
       "\n",
       "    .dataframe thead th {\n",
       "        text-align: right;\n",
       "    }\n",
       "</style>\n",
       "<table border=\"1\" class=\"dataframe\">\n",
       "  <thead>\n",
       "    <tr style=\"text-align: right;\">\n",
       "      <th></th>\n",
       "      <th>order_id</th>\n",
       "      <th>quantity</th>\n",
       "    </tr>\n",
       "  </thead>\n",
       "  <tbody>\n",
       "    <tr>\n",
       "      <th>count</th>\n",
       "      <td>4622.000000</td>\n",
       "      <td>4622.000000</td>\n",
       "    </tr>\n",
       "    <tr>\n",
       "      <th>mean</th>\n",
       "      <td>927.254868</td>\n",
       "      <td>1.075725</td>\n",
       "    </tr>\n",
       "    <tr>\n",
       "      <th>std</th>\n",
       "      <td>528.890796</td>\n",
       "      <td>0.410186</td>\n",
       "    </tr>\n",
       "    <tr>\n",
       "      <th>min</th>\n",
       "      <td>1.000000</td>\n",
       "      <td>1.000000</td>\n",
       "    </tr>\n",
       "    <tr>\n",
       "      <th>25%</th>\n",
       "      <td>477.250000</td>\n",
       "      <td>1.000000</td>\n",
       "    </tr>\n",
       "    <tr>\n",
       "      <th>50%</th>\n",
       "      <td>926.000000</td>\n",
       "      <td>1.000000</td>\n",
       "    </tr>\n",
       "    <tr>\n",
       "      <th>75%</th>\n",
       "      <td>1393.000000</td>\n",
       "      <td>1.000000</td>\n",
       "    </tr>\n",
       "    <tr>\n",
       "      <th>max</th>\n",
       "      <td>1834.000000</td>\n",
       "      <td>15.000000</td>\n",
       "    </tr>\n",
       "  </tbody>\n",
       "</table>\n",
       "</div>"
      ],
      "text/plain": [
       "          order_id     quantity\n",
       "count  4622.000000  4622.000000\n",
       "mean    927.254868     1.075725\n",
       "std     528.890796     0.410186\n",
       "min       1.000000     1.000000\n",
       "25%     477.250000     1.000000\n",
       "50%     926.000000     1.000000\n",
       "75%    1393.000000     1.000000\n",
       "max    1834.000000    15.000000"
      ]
     },
     "execution_count": 32,
     "metadata": {},
     "output_type": "execute_result"
    }
   ],
   "source": [
    "dataframe.describe()\n",
    "\n",
    "#   info                                   describe\n",
    "#\n",
    "#  -shows class type                       -doesn't show class type\n",
    "#  -shows the number of entries            -doesn't show the number of entries\n",
    "#  -shows number of columns                -doesn't show the number of columns\n",
    "#  etc.\n",
    "\n",
    "#  -doesn't show statistics information    -shows statistics information about first two columns such as mean, max, count"
   ]
  },
  {
   "cell_type": "markdown",
   "metadata": {},
   "source": [
    "### D. "
   ]
  },
  {
   "cell_type": "code",
   "execution_count": 44,
   "metadata": {},
   "outputs": [
    {
     "name": "stdout",
     "output_type": "stream",
     "text": [
      "['order_id', 'quantity', 'item_name', 'choice_description', 'item_price']\n",
      "5\n"
     ]
    }
   ],
   "source": [
    "mylist = list(dataframe.columns.values)\n",
    "print(mylist)\n",
    "print(len(dataframe.columns))"
   ]
  },
  {
   "cell_type": "markdown",
   "metadata": {},
   "source": [
    "### E. "
   ]
  },
  {
   "cell_type": "code",
   "execution_count": 46,
   "metadata": {},
   "outputs": [
    {
     "data": {
      "text/html": [
       "<div>\n",
       "<style scoped>\n",
       "    .dataframe tbody tr th:only-of-type {\n",
       "        vertical-align: middle;\n",
       "    }\n",
       "\n",
       "    .dataframe tbody tr th {\n",
       "        vertical-align: top;\n",
       "    }\n",
       "\n",
       "    .dataframe thead th {\n",
       "        text-align: right;\n",
       "    }\n",
       "</style>\n",
       "<table border=\"1\" class=\"dataframe\">\n",
       "  <thead>\n",
       "    <tr style=\"text-align: right;\">\n",
       "      <th></th>\n",
       "      <th>order_id</th>\n",
       "      <th>quantity</th>\n",
       "      <th>item_name</th>\n",
       "      <th>choice_description</th>\n",
       "      <th>item_price</th>\n",
       "    </tr>\n",
       "  </thead>\n",
       "  <tbody>\n",
       "    <tr>\n",
       "      <th>0</th>\n",
       "      <td>1</td>\n",
       "      <td>1</td>\n",
       "      <td>Chips and Fresh Tomato Salsa</td>\n",
       "      <td>NaN</td>\n",
       "      <td>$2.39</td>\n",
       "    </tr>\n",
       "    <tr>\n",
       "      <th>1</th>\n",
       "      <td>1</td>\n",
       "      <td>1</td>\n",
       "      <td>Izze</td>\n",
       "      <td>[Clementine]</td>\n",
       "      <td>$3.39</td>\n",
       "    </tr>\n",
       "    <tr>\n",
       "      <th>2</th>\n",
       "      <td>1</td>\n",
       "      <td>1</td>\n",
       "      <td>Nantucket Nectar</td>\n",
       "      <td>[Apple]</td>\n",
       "      <td>$3.39</td>\n",
       "    </tr>\n",
       "    <tr>\n",
       "      <th>3</th>\n",
       "      <td>1</td>\n",
       "      <td>1</td>\n",
       "      <td>Chips and Tomatillo-Green Chili Salsa</td>\n",
       "      <td>NaN</td>\n",
       "      <td>$2.39</td>\n",
       "    </tr>\n",
       "    <tr>\n",
       "      <th>4</th>\n",
       "      <td>2</td>\n",
       "      <td>2</td>\n",
       "      <td>Chicken Bowl</td>\n",
       "      <td>[Tomatillo-Red Chili Salsa (Hot), [Black Beans...</td>\n",
       "      <td>$16.98</td>\n",
       "    </tr>\n",
       "  </tbody>\n",
       "</table>\n",
       "</div>"
      ],
      "text/plain": [
       "   order_id  quantity                              item_name  \\\n",
       "0         1         1           Chips and Fresh Tomato Salsa   \n",
       "1         1         1                                   Izze   \n",
       "2         1         1                       Nantucket Nectar   \n",
       "3         1         1  Chips and Tomatillo-Green Chili Salsa   \n",
       "4         2         2                           Chicken Bowl   \n",
       "\n",
       "                                  choice_description item_price  \n",
       "0                                                NaN     $2.39   \n",
       "1                                       [Clementine]     $3.39   \n",
       "2                                            [Apple]     $3.39   \n",
       "3                                                NaN     $2.39   \n",
       "4  [Tomatillo-Red Chili Salsa (Hot), [Black Beans...    $16.98   "
      ]
     },
     "execution_count": 46,
     "metadata": {},
     "output_type": "execute_result"
    }
   ],
   "source": [
    "dataframe.head()\n",
    "# Valorile de index nu sunt unice. Se poate observa ca id_ul 1 apare de 4 ori."
   ]
  },
  {
   "cell_type": "markdown",
   "metadata": {},
   "source": [
    "### F. "
   ]
  },
  {
   "cell_type": "code",
   "execution_count": 57,
   "metadata": {},
   "outputs": [
    {
     "data": {
      "text/plain": [
       "<bound method DataFrame.count of       order_id  quantity          item_name  \\\n",
       "3389      1360         2  6 Pack Soft Drink   \n",
       "1279       520         1  6 Pack Soft Drink   \n",
       "4363      1742         1  6 Pack Soft Drink   \n",
       "3132      1248         1  6 Pack Soft Drink   \n",
       "341        148         1  6 Pack Soft Drink   \n",
       "1849       749         1  6 Pack Soft Drink   \n",
       "1860       754         1  6 Pack Soft Drink   \n",
       "1916       774         1  6 Pack Soft Drink   \n",
       "1922       776         1  6 Pack Soft Drink   \n",
       "1937       784         1  6 Pack Soft Drink   \n",
       "3836      1537         1  6 Pack Soft Drink   \n",
       "298        129         1  6 Pack Soft Drink   \n",
       "3422      1373         1  6 Pack Soft Drink   \n",
       "553        230         1  6 Pack Soft Drink   \n",
       "3875      1554         1  6 Pack Soft Drink   \n",
       "2389       949         1  6 Pack Soft Drink   \n",
       "4522      1798         1  6 Pack Soft Drink   \n",
       "4527      1800         1  6 Pack Soft Drink   \n",
       "4174      1666         1  6 Pack Soft Drink   \n",
       "4535      1803         1  6 Pack Soft Drink   \n",
       "4169      1664         1  6 Pack Soft Drink   \n",
       "3010      1196         1  6 Pack Soft Drink   \n",
       "2108       849         1  6 Pack Soft Drink   \n",
       "3886      1558         1  6 Pack Soft Drink   \n",
       "1976       798         1  6 Pack Soft Drink   \n",
       "2713      1076         1  6 Pack Soft Drink   \n",
       "3633      1454         1  6 Pack Soft Drink   \n",
       "1167       481         1  6 Pack Soft Drink   \n",
       "1260       511         1  6 Pack Soft Drink   \n",
       "1124       465         1  6 Pack Soft Drink   \n",
       "...        ...       ...                ...   \n",
       "3163      1263         1       Veggie Salad   \n",
       "2996      1192         1       Veggie Salad   \n",
       "2756      1094         1       Veggie Salad   \n",
       "1694       686         1       Veggie Salad   \n",
       "4084      1635         1       Veggie Salad   \n",
       "2269       913         1  Veggie Salad Bowl   \n",
       "4541      1805         1  Veggie Salad Bowl   \n",
       "186         83         1  Veggie Salad Bowl   \n",
       "4201      1677         1  Veggie Salad Bowl   \n",
       "1884       760         1  Veggie Salad Bowl   \n",
       "455        195         1  Veggie Salad Bowl   \n",
       "3223      1289         1  Veggie Salad Bowl   \n",
       "3293      1321         1  Veggie Salad Bowl   \n",
       "2223       896         1  Veggie Salad Bowl   \n",
       "960        394         1  Veggie Salad Bowl   \n",
       "295        128         1  Veggie Salad Bowl   \n",
       "4573      1818         1  Veggie Salad Bowl   \n",
       "2683      1066         1  Veggie Salad Bowl   \n",
       "496        207         1  Veggie Salad Bowl   \n",
       "4109      1646         1  Veggie Salad Bowl   \n",
       "1316       536         1  Veggie Salad Bowl   \n",
       "2156       869         1  Veggie Salad Bowl   \n",
       "4261      1700         1  Veggie Salad Bowl   \n",
       "738        304         1  Veggie Soft Tacos   \n",
       "3889      1559         2  Veggie Soft Tacos   \n",
       "2384       948         1  Veggie Soft Tacos   \n",
       "781        322         1  Veggie Soft Tacos   \n",
       "2851      1132         1  Veggie Soft Tacos   \n",
       "1699       688         1  Veggie Soft Tacos   \n",
       "1395       567         1  Veggie Soft Tacos   \n",
       "\n",
       "                                     choice_description item_price  \n",
       "3389                                        [Diet Coke]    $12.98   \n",
       "1279                                           [Sprite]     $6.49   \n",
       "4363                                        [Diet Coke]     $6.49   \n",
       "3132                                        [Diet Coke]     $6.49   \n",
       "341                                         [Diet Coke]     $6.49   \n",
       "1849                                             [Coke]     $6.49   \n",
       "1860                                        [Diet Coke]     $6.49   \n",
       "1916                                        [Diet Coke]     $6.49   \n",
       "1922                                             [Coke]     $6.49   \n",
       "1937                                        [Diet Coke]     $6.49   \n",
       "3836                                             [Coke]     $6.49   \n",
       "298                                            [Sprite]     $6.49   \n",
       "3422                                             [Coke]     $6.49   \n",
       "553                                         [Diet Coke]     $6.49   \n",
       "3875                                        [Diet Coke]     $6.49   \n",
       "2389                                             [Coke]     $6.49   \n",
       "4522                                        [Diet Coke]     $6.49   \n",
       "4527                                        [Diet Coke]     $6.49   \n",
       "4174                                             [Coke]     $6.49   \n",
       "4535                                         [Lemonade]     $6.49   \n",
       "4169                                        [Diet Coke]     $6.49   \n",
       "3010                                        [Diet Coke]     $6.49   \n",
       "2108                                             [Coke]     $6.49   \n",
       "3886                                        [Diet Coke]     $6.49   \n",
       "1976                                        [Diet Coke]     $6.49   \n",
       "2713                                             [Coke]     $6.49   \n",
       "3633                                             [Coke]     $6.49   \n",
       "1167                                             [Coke]     $6.49   \n",
       "1260                                             [Coke]     $6.49   \n",
       "1124                                             [Coke]     $6.49   \n",
       "...                                                 ...        ...  \n",
       "3163  [[Fresh Tomato Salsa (Mild), Roasted Chili Cor...     $8.49   \n",
       "2996  [Roasted Chili Corn Salsa (Medium), [Black Bea...     $8.49   \n",
       "2756  [[Tomatillo-Green Chili Salsa (Medium), Roaste...     $8.49   \n",
       "1694  [[Fresh Tomato Salsa (Mild), Roasted Chili Cor...     $8.49   \n",
       "4084  [[Fresh Tomato Salsa (Mild), Roasted Chili Cor...     $8.49   \n",
       "2269  [Fresh Tomato Salsa, [Fajita Vegetables, Rice,...     $8.75   \n",
       "4541  [Tomatillo Green Chili Salsa, [Fajita Vegetabl...     $8.75   \n",
       "186   [Fresh Tomato Salsa, [Fajita Vegetables, Rice,...    $11.25   \n",
       "4201  [Fresh Tomato Salsa, [Fajita Vegetables, Black...    $11.25   \n",
       "1884  [Fresh Tomato Salsa, [Fajita Vegetables, Rice,...    $11.25   \n",
       "455   [Fresh Tomato Salsa, [Fajita Vegetables, Rice,...    $11.25   \n",
       "3223  [Tomatillo Red Chili Salsa, [Fajita Vegetables...    $11.25   \n",
       "3293  [Fresh Tomato Salsa, [Rice, Black Beans, Chees...     $8.75   \n",
       "2223      [Roasted Chili Corn Salsa, Fajita Vegetables]     $8.75   \n",
       "960   [Fresh Tomato Salsa, [Fajita Vegetables, Lettu...     $8.75   \n",
       "295   [Fresh Tomato Salsa, [Fajita Vegetables, Lettu...    $11.25   \n",
       "4573  [Fresh Tomato Salsa, [Fajita Vegetables, Pinto...     $8.75   \n",
       "2683  [Roasted Chili Corn Salsa, [Fajita Vegetables,...     $8.75   \n",
       "496   [Fresh Tomato Salsa, [Rice, Lettuce, Guacamole...    $11.25   \n",
       "4109  [Tomatillo Red Chili Salsa, [Fajita Vegetables...    $11.25   \n",
       "1316  [Fresh Tomato Salsa, [Fajita Vegetables, Rice,...     $8.75   \n",
       "2156  [Tomatillo Red Chili Salsa, [Fajita Vegetables...    $11.25   \n",
       "4261  [Fresh Tomato Salsa, [Fajita Vegetables, Rice,...    $11.25   \n",
       "738   [Tomatillo Red Chili Salsa, [Fajita Vegetables...    $11.25   \n",
       "3889  [Fresh Tomato Salsa (Mild), [Black Beans, Rice...    $16.98   \n",
       "2384  [Roasted Chili Corn Salsa, [Fajita Vegetables,...     $8.75   \n",
       "781   [Fresh Tomato Salsa, [Black Beans, Cheese, Sou...     $8.75   \n",
       "2851  [Roasted Chili Corn Salsa (Medium), [Black Bea...     $8.49   \n",
       "1699  [Fresh Tomato Salsa, [Fajita Vegetables, Rice,...    $11.25   \n",
       "1395  [Fresh Tomato Salsa (Mild), [Pinto Beans, Rice...     $8.49   \n",
       "\n",
       "[4622 rows x 5 columns]>"
      ]
     },
     "execution_count": 57,
     "metadata": {},
     "output_type": "execute_result"
    }
   ],
   "source": [
    "dataframe = dataframe.sort_values('item_name')\n",
    "dataframe.head()\n",
    "dataframe.count"
   ]
  },
  {
   "cell_type": "markdown",
   "metadata": {},
   "source": [
    "### G. "
   ]
  },
  {
   "cell_type": "code",
   "execution_count": 59,
   "metadata": {},
   "outputs": [
    {
     "data": {
      "text/plain": [
       "4972"
      ]
     },
     "execution_count": 59,
     "metadata": {},
     "output_type": "execute_result"
    }
   ],
   "source": [
    "dataframe['quantity'].sum()"
   ]
  },
  {
   "cell_type": "markdown",
   "metadata": {},
   "source": [
    "### H. "
   ]
  },
  {
   "cell_type": "code",
   "execution_count": 60,
   "metadata": {},
   "outputs": [
    {
     "ename": "NameError",
     "evalue": "name 'datafrae' is not defined",
     "output_type": "error",
     "traceback": [
      "\u001b[1;31m---------------------------------------------------------------------------\u001b[0m",
      "\u001b[1;31mNameError\u001b[0m                                 Traceback (most recent call last)",
      "\u001b[1;32m<ipython-input-60-67aabb3ca1ad>\u001b[0m in \u001b[0;36m<module>\u001b[1;34m()\u001b[0m\n\u001b[1;32m----> 1\u001b[1;33m \u001b[0mdataframe2\u001b[0m \u001b[1;33m=\u001b[0m \u001b[0mdatafrae\u001b[0m\u001b[1;33m[\u001b[0m\u001b[1;34m'price'\u001b[0m\u001b[1;33m]\u001b[0m\u001b[1;33m\u001b[0m\u001b[0m\n\u001b[0m",
      "\u001b[1;31mNameError\u001b[0m: name 'datafrae' is not defined"
     ]
    }
   ],
   "source": [
    "dataframe2 = datafrae['price']"
   ]
  }
 ],
 "metadata": {
  "kernelspec": {
   "display_name": "Python 3",
   "language": "python",
   "name": "python3"
  },
  "language_info": {
   "codemirror_mode": {
    "name": "ipython",
    "version": 3
   },
   "file_extension": ".py",
   "mimetype": "text/x-python",
   "name": "python",
   "nbconvert_exporter": "python",
   "pygments_lexer": "ipython3",
   "version": "3.6.4"
  }
 },
 "nbformat": 4,
 "nbformat_minor": 2
}
