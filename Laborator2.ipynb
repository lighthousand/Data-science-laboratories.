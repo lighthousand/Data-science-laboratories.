{
 "cells": [
  {
   "cell_type": "markdown",
   "metadata": {},
   "source": [
    "# Liste, dictionare, multimi"
   ]
  },
  {
   "cell_type": "markdown",
   "metadata": {},
   "source": [
    "## 1."
   ]
  },
  {
   "cell_type": "code",
   "execution_count": 33,
   "metadata": {},
   "outputs": [
    {
     "name": "stdout",
     "output_type": "stream",
     "text": [
      "[5, 4, 3, 2, 1]\n",
      "[5, 4, 3, 2, 1]\n",
      "[5, 4, 3, 2, 1]\n"
     ]
    }
   ],
   "source": [
    "lista = [1,2,3,4,5]\n",
    "print(sorted(lista, reverse=True))\n",
    "print(lista[::-1])\n",
    "lista.reverse()\n",
    "print(lista)"
   ]
  },
  {
   "cell_type": "markdown",
   "metadata": {},
   "source": [
    "## 2."
   ]
  },
  {
   "cell_type": "code",
   "execution_count": 34,
   "metadata": {},
   "outputs": [
    {
     "name": "stdout",
     "output_type": "stream",
     "text": [
      "{'aaa': 2, 'bbb': 1, 'ccc': 1}\n"
     ]
    }
   ],
   "source": [
    "list = ['aaa', 'bbb', 'ccc', 'aaa']\n",
    "dictionary = {}\n",
    "for var in list:\n",
    "    if var not in dictionary:\n",
    "        dictionary[var] = list.count(var)\n",
    "print(dictionary)"
   ]
  },
  {
   "cell_type": "markdown",
   "metadata": {},
   "source": [
    "$$\n",
    "\\sum\\limits_{i=1}^n x^3\n",
    "$$"
   ]
  },
  {
   "cell_type": "markdown",
   "metadata": {},
   "source": [
    "## 3."
   ]
  },
  {
   "cell_type": "code",
   "execution_count": 41,
   "metadata": {},
   "outputs": [
    {
     "name": "stdout",
     "output_type": "stream",
     "text": [
      "[1, 2, 2, 2, 7]\n"
     ]
    }
   ],
   "source": [
    "list_of_tuples = [(1,1),(1,2),(2,1),(2,2),(7,3)]\n",
    "new_list = []\n",
    "\n",
    "for item in list_of_tuples:\n",
    "    new_list.append(max(item))\n",
    "print(new_list)"
   ]
  },
  {
   "cell_type": "markdown",
   "metadata": {},
   "source": [
    "## 4."
   ]
  },
  {
   "cell_type": "code",
   "execution_count": 46,
   "metadata": {},
   "outputs": [
    {
     "name": "stdout",
     "output_type": "stream",
     "text": [
      "[2, 4, 6, 8, 10]\n",
      "[1, 3, 5, 7, 9]\n"
     ]
    }
   ],
   "source": [
    "lista = [1,2,3,4,5,6,7,8,9,10]\n",
    "suma = []\n",
    "produs = []\n",
    "for item in lista:\n",
    "    if item % 2 == 0:\n",
    "        suma.append(item)\n",
    "    else:\n",
    "        produs.append(item)\n",
    "print(suma)\n",
    "print(produs)"
   ]
  },
  {
   "cell_type": "markdown",
   "metadata": {},
   "source": [
    "## 5."
   ]
  },
  {
   "cell_type": "code",
   "execution_count": 3,
   "metadata": {},
   "outputs": [
    {
     "name": "stdout",
     "output_type": "stream",
     "text": [
      "{0, 1, 2, 3, 4, 5, 6, 7, 8, 9}\n"
     ]
    }
   ],
   "source": [
    "multime = {0,1,2,3,4,5,6,7,8,9,2,2,2}\n",
    "print(set(multime))"
   ]
  },
  {
   "cell_type": "markdown",
   "metadata": {},
   "source": [
    "## 6."
   ]
  },
  {
   "cell_type": "code",
   "execution_count": 7,
   "metadata": {},
   "outputs": [
    {
     "name": "stdout",
     "output_type": "stream",
     "text": [
      "['ana6', 'are6', 'mere6', 'pere6']\n"
     ]
    }
   ],
   "source": [
    "string_list = [\"ana\", \"are\", \"mere\", \"pere\"]\n",
    "second_list = []\n",
    "n = 6\n",
    "for item in string_list:\n",
    "    second_list.append(item + str(n))\n",
    "print(second_list)"
   ]
  },
  {
   "cell_type": "markdown",
   "metadata": {},
   "source": [
    "## 7."
   ]
  },
  {
   "cell_type": "code",
   "execution_count": 20,
   "metadata": {},
   "outputs": [
    {
     "data": {
      "text/plain": [
       "['Python', 'Java', 'C#', 'Cobol', 'Lisp']"
      ]
     },
     "execution_count": 20,
     "metadata": {},
     "output_type": "execute_result"
    }
   ],
   "source": [
    "words_list = [\"python\", \"java\", \"c#\", \"COBOL\", \"lisp\"]\n",
    "cap_words = [word.capitalize() for word in words_list]\n",
    "cap_words"
   ]
  },
  {
   "cell_type": "markdown",
   "metadata": {},
   "source": [
    "## 8."
   ]
  },
  {
   "cell_type": "code",
   "execution_count": 26,
   "metadata": {},
   "outputs": [
    {
     "name": "stdout",
     "output_type": "stream",
     "text": [
      "Test 1: False\n",
      "Test 2: True\n"
     ]
    }
   ],
   "source": [
    "this = ['I', 'am', 'not', 'a', 'crook']\n",
    "that = ['I', 'am', 'not', 'a', 'crook']\n",
    "print(\"Test 1:\", this is that)\n",
    "that = this\n",
    "print(\"Test 2:\", this is that)\n",
    "\n",
    "# Operatorul is testeaza daca doua variabile pointeaza catre acelasi obiect, aceeasi adresa de memorie.\n",
    "# La prima testare this != that, adica this si that pointeaza catre diferite adrese de memorie, desi au acelasi continut.\n",
    "# Dupa instructiunea \"this = that\", la a doua testare se afiseaza True deoarece in urma atribuirii, this si that pointeaza\n",
    "# catre aceeasi adresa de memorie.\n",
    "\n",
    "# https://en.wikibooks.org/wiki/Non-Programmer%27s_Tutorial_for_Python_3/Boolean_Expressions\n",
    "# https://stackoverflow.com/questions/13650293/understanding-pythons-is-operator"
   ]
  },
  {
   "cell_type": "markdown",
   "metadata": {},
   "source": [
    "# Functii"
   ]
  },
  {
   "cell_type": "markdown",
   "metadata": {},
   "source": [
    "## 1."
   ]
  },
  {
   "cell_type": "code",
   "execution_count": 31,
   "metadata": {},
   "outputs": [
    {
     "name": "stdout",
     "output_type": "stream",
     "text": [
      "(92, 49)\n"
     ]
    }
   ],
   "source": [
    "number_list = [0,1,2,-1,40,50]\n",
    "def sum_maximum_difference(numbers):\n",
    "    sum_numbers = 0\n",
    "    min_number = min(numbers)\n",
    "    max_number = max(numbers)\n",
    "    \n",
    "    for number in numbers:\n",
    "        sum_numbers += number\n",
    "        \n",
    "    return sum_numbers, max_number - abs(min_number)\n",
    "print(sum_maximum_difference(number_list))"
   ]
  },
  {
   "cell_type": "markdown",
   "metadata": {},
   "source": [
    "## 2. "
   ]
  },
  {
   "cell_type": "code",
   "execution_count": 49,
   "metadata": {},
   "outputs": [
    {
     "name": "stdout",
     "output_type": "stream",
     "text": [
      "True\n"
     ]
    }
   ],
   "source": [
    "list1 = [1,2,3,4,5,6]\n",
    "list2 = [3,4,5,6,7,8]\n",
    "factor = 2\n",
    "\n",
    "def k_common_elements(list1, list2, k=1):\n",
    "    return len(set(list1).intersection(list2)) > k\n",
    "\n",
    "\n",
    "print(k_common_elements(list1,list2, k=factor))"
   ]
  },
  {
   "cell_type": "markdown",
   "metadata": {},
   "source": [
    "## 3."
   ]
  },
  {
   "cell_type": "code",
   "execution_count": null,
   "metadata": {},
   "outputs": [],
   "source": [
    "words = [\"hey\", \"hello\", \",\" \"__word\", \"  faf\"]\n",
    "\n",
    "def test_if_word(words):\n",
    "    for word in words:\n",
    "        if"
   ]
  }
 ],
 "metadata": {
  "kernelspec": {
   "display_name": "Python 3",
   "language": "python",
   "name": "python3"
  },
  "language_info": {
   "codemirror_mode": {
    "name": "ipython",
    "version": 3
   },
   "file_extension": ".py",
   "mimetype": "text/x-python",
   "name": "python",
   "nbconvert_exporter": "python",
   "pygments_lexer": "ipython3",
   "version": "3.6.4"
  }
 },
 "nbformat": 4,
 "nbformat_minor": 2
}
